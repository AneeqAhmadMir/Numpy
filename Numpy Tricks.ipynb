{
 "cells": [
  {
   "cell_type": "code",
   "execution_count": 1,
   "id": "2d046e43-8cb2-4935-be83-95ae63f24dd3",
   "metadata": {},
   "outputs": [
    {
     "data": {
      "text/plain": [
       "array([22, 11, 53, 96, 47, 43, 58, 57, 23, 39,  7, 12, 30, 20, 70])"
      ]
     },
     "execution_count": 1,
     "metadata": {},
     "output_type": "execute_result"
    }
   ],
   "source": [
    "import numpy as np\n",
    "a = np.random.randint(1,100,15)\n",
    "a"
   ]
  },
  {
   "cell_type": "code",
   "execution_count": 2,
   "id": "38a0de76-f36b-42bf-8d14-7dede2392628",
   "metadata": {},
   "outputs": [
    {
     "data": {
      "text/plain": [
       "array([ 7, 11, 12, 20, 22, 23, 30, 39, 43, 47, 53, 57, 58, 70, 96])"
      ]
     },
     "execution_count": 2,
     "metadata": {},
     "output_type": "execute_result"
    }
   ],
   "source": [
    "# sort\n",
    "np.sort(a)"
   ]
  },
  {
   "cell_type": "code",
   "execution_count": 3,
   "id": "5a0d9ca1-8695-45bf-a905-8986cfd919e9",
   "metadata": {},
   "outputs": [
    {
     "data": {
      "text/plain": [
       "array([[25, 54, 70, 18],\n",
       "       [52, 25, 28, 17],\n",
       "       [40, 84, 61, 78],\n",
       "       [80, 32, 69,  4],\n",
       "       [61, 17, 92, 55],\n",
       "       [32, 13, 29, 38]])"
      ]
     },
     "execution_count": 3,
     "metadata": {},
     "output_type": "execute_result"
    }
   ],
   "source": [
    "b = np.random.randint(1,100,24).reshape(6,4)\n",
    "b"
   ]
  },
  {
   "cell_type": "code",
   "execution_count": 4,
   "id": "a0a1508e-9f3f-4a62-b1d3-f26f77e89be8",
   "metadata": {},
   "outputs": [
    {
     "data": {
      "text/plain": [
       "array([[18, 25, 54, 70],\n",
       "       [17, 25, 28, 52],\n",
       "       [40, 61, 78, 84],\n",
       "       [ 4, 32, 69, 80],\n",
       "       [17, 55, 61, 92],\n",
       "       [13, 29, 32, 38]])"
      ]
     },
     "execution_count": 4,
     "metadata": {},
     "output_type": "execute_result"
    }
   ],
   "source": [
    "np.sort(b)"
   ]
  },
  {
   "cell_type": "code",
   "execution_count": 5,
   "id": "eb4613c9-e18a-484e-b013-729ba998ad35",
   "metadata": {},
   "outputs": [
    {
     "data": {
      "text/plain": [
       "array([[25, 13, 28,  4],\n",
       "       [32, 17, 29, 17],\n",
       "       [40, 25, 61, 18],\n",
       "       [52, 32, 69, 38],\n",
       "       [61, 54, 70, 55],\n",
       "       [80, 84, 92, 78]])"
      ]
     },
     "execution_count": 5,
     "metadata": {},
     "output_type": "execute_result"
    }
   ],
   "source": [
    "np.sort(b,axis = 0) # now it sort column wise"
   ]
  },
  {
   "cell_type": "code",
   "execution_count": 6,
   "id": "b9cc4b22-705c-495f-a44a-557881cab3c6",
   "metadata": {},
   "outputs": [
    {
     "data": {
      "text/plain": [
       "array([ 22,  11,  53,  96,  47,  43,  58,  57,  23,  39,   7,  12,  30,\n",
       "        20,  70, 200])"
      ]
     },
     "execution_count": 6,
     "metadata": {},
     "output_type": "execute_result"
    }
   ],
   "source": [
    "# np append\n",
    "np.append(a,200)"
   ]
  },
  {
   "cell_type": "code",
   "execution_count": 7,
   "id": "cc774eb3-3e40-4c01-aec2-435867c1e8fc",
   "metadata": {},
   "outputs": [
    {
     "name": "stdout",
     "output_type": "stream",
     "text": [
      "[[0 1 2]\n",
      " [3 4 5]]\n",
      "[[ 6  7  8]\n",
      " [ 9 10 11]]\n"
     ]
    }
   ],
   "source": [
    "# np.concatenate\n",
    "c = np.arange(6).reshape(2,3)\n",
    "d = np.arange(6,12).reshape(2,3)\n",
    "print(c)\n",
    "print(d)"
   ]
  },
  {
   "cell_type": "code",
   "execution_count": 8,
   "id": "70f2da98-3c6c-4f3f-bfcc-0acd36b6dcf8",
   "metadata": {},
   "outputs": [
    {
     "data": {
      "text/plain": [
       "array([[ 0,  1,  2],\n",
       "       [ 3,  4,  5],\n",
       "       [ 6,  7,  8],\n",
       "       [ 9, 10, 11]])"
      ]
     },
     "execution_count": 8,
     "metadata": {},
     "output_type": "execute_result"
    }
   ],
   "source": [
    "np.concatenate((c,d),axis = 0)"
   ]
  },
  {
   "cell_type": "code",
   "execution_count": 9,
   "id": "28b8da7b-2c07-42ee-b6ce-e97ac47ffdef",
   "metadata": {},
   "outputs": [
    {
     "data": {
      "text/plain": [
       "array([[ 0,  1,  2,  6,  7,  8],\n",
       "       [ 3,  4,  5,  9, 10, 11]])"
      ]
     },
     "execution_count": 9,
     "metadata": {},
     "output_type": "execute_result"
    }
   ],
   "source": [
    "np.concatenate((c,d),axis = 1)"
   ]
  },
  {
   "cell_type": "code",
   "execution_count": 10,
   "id": "a91fb971-c7ce-4a61-80ba-7017114e318d",
   "metadata": {},
   "outputs": [],
   "source": [
    "# np.unique\n",
    "a = np.array([1,2,3,4,1,1,3,3,2,4,3,4,3,4,2])"
   ]
  },
  {
   "cell_type": "code",
   "execution_count": 11,
   "id": "ad0596cf-4f65-4a6a-bbc2-4a73fea3cc77",
   "metadata": {},
   "outputs": [
    {
     "data": {
      "text/plain": [
       "array([1, 2, 3, 4])"
      ]
     },
     "execution_count": 11,
     "metadata": {},
     "output_type": "execute_result"
    }
   ],
   "source": [
    "np.unique(a)"
   ]
  },
  {
   "cell_type": "markdown",
   "id": "eb445e78-beb7-4b61-846c-6379ed56848a",
   "metadata": {},
   "source": [
    "## np.expand_dims\n",
    "#### with the help of numpy.expand_dims () method,we can get the expanded dimensions of an array"
   ]
  },
  {
   "cell_type": "code",
   "execution_count": 12,
   "id": "451eee78-d5e7-4b92-8b08-539d40a5e50b",
   "metadata": {},
   "outputs": [
    {
     "data": {
      "text/plain": [
       "array([1, 2, 3, 4, 1, 1, 3, 3, 2, 4, 3, 4, 3, 4, 2])"
      ]
     },
     "execution_count": 12,
     "metadata": {},
     "output_type": "execute_result"
    }
   ],
   "source": [
    "a"
   ]
  },
  {
   "cell_type": "code",
   "execution_count": 13,
   "id": "14eaa686-340a-4c8d-b76b-4a693e5278b9",
   "metadata": {},
   "outputs": [
    {
     "data": {
      "text/plain": [
       "array([[1, 2, 3, 4, 1, 1, 3, 3, 2, 4, 3, 4, 3, 4, 2]])"
      ]
     },
     "execution_count": 13,
     "metadata": {},
     "output_type": "execute_result"
    }
   ],
   "source": [
    "np.expand_dims(a,axis =0)"
   ]
  },
  {
   "cell_type": "markdown",
   "id": "8b411085-6b12-4f63-b66d-be138d2b0445",
   "metadata": {},
   "source": [
    "## np.where\n",
    "#### The np.where() function returns the indices of elements in an input array where the given condition is satisfied"
   ]
  },
  {
   "cell_type": "code",
   "execution_count": 14,
   "id": "f987f1af-5e55-4c69-bcf3-1cde64e8c070",
   "metadata": {},
   "outputs": [
    {
     "data": {
      "text/plain": [
       "array([18, 63, 88, 23, 98, 82, 85, 90,  6, 49])"
      ]
     },
     "execution_count": 14,
     "metadata": {},
     "output_type": "execute_result"
    }
   ],
   "source": [
    "a = np.random.randint(1,100,10)\n",
    "a"
   ]
  },
  {
   "cell_type": "code",
   "execution_count": 15,
   "id": "e88b30b5-33d0-4bc7-b63b-c1500f9250bd",
   "metadata": {},
   "outputs": [
    {
     "data": {
      "text/plain": [
       "(array([1, 2, 4, 5, 6, 7], dtype=int64),)"
      ]
     },
     "execution_count": 15,
     "metadata": {},
     "output_type": "execute_result"
    }
   ],
   "source": [
    "# find all the indices with value greater than 50\n",
    "np.where(a>50)"
   ]
  },
  {
   "cell_type": "code",
   "execution_count": 16,
   "id": "87042d9d-d199-4064-9ccc-ab209230737c",
   "metadata": {},
   "outputs": [
    {
     "data": {
      "text/plain": [
       "array([18,  0,  0, 23,  0,  0,  0,  0,  6, 49])"
      ]
     },
     "execution_count": 16,
     "metadata": {},
     "output_type": "execute_result"
    }
   ],
   "source": [
    "# replace all value > 50 with 0\n",
    "# np.where(condition,true,false)\n",
    "np.where(a>50,0,a)"
   ]
  },
  {
   "cell_type": "markdown",
   "id": "6d1132a9-b1e6-4f86-8c19-7aa3687e7577",
   "metadata": {},
   "source": [
    "## np.argmax \n",
    "#### The numpy.argmax()function returns the indices of the max element of array in a particular axis"
   ]
  },
  {
   "cell_type": "code",
   "execution_count": 17,
   "id": "fe45a981-eacd-421f-a7c2-7b04cec5b458",
   "metadata": {},
   "outputs": [
    {
     "data": {
      "text/plain": [
       "array([18, 63, 88, 23, 98, 82, 85, 90,  6, 49])"
      ]
     },
     "execution_count": 17,
     "metadata": {},
     "output_type": "execute_result"
    }
   ],
   "source": [
    "a"
   ]
  },
  {
   "cell_type": "code",
   "execution_count": 18,
   "id": "2c6c4e64-f6cd-467b-9b69-0d90908e861c",
   "metadata": {},
   "outputs": [
    {
     "data": {
      "text/plain": [
       "4"
      ]
     },
     "execution_count": 18,
     "metadata": {},
     "output_type": "execute_result"
    }
   ],
   "source": [
    "np.argmax(a)"
   ]
  },
  {
   "cell_type": "code",
   "execution_count": 19,
   "id": "186dd6aa-d992-4de8-9f56-7aa42358b0b5",
   "metadata": {},
   "outputs": [
    {
     "data": {
      "text/plain": [
       "array([[25, 54, 70, 18],\n",
       "       [52, 25, 28, 17],\n",
       "       [40, 84, 61, 78],\n",
       "       [80, 32, 69,  4],\n",
       "       [61, 17, 92, 55],\n",
       "       [32, 13, 29, 38]])"
      ]
     },
     "execution_count": 19,
     "metadata": {},
     "output_type": "execute_result"
    }
   ],
   "source": [
    "b"
   ]
  },
  {
   "cell_type": "code",
   "execution_count": 20,
   "id": "4c44e6ef-07ce-4e44-a49b-a5c5dc0835de",
   "metadata": {},
   "outputs": [
    {
     "data": {
      "text/plain": [
       "array([2, 0, 1, 0, 2, 3], dtype=int64)"
      ]
     },
     "execution_count": 20,
     "metadata": {},
     "output_type": "execute_result"
    }
   ],
   "source": [
    "np.argmax(b,axis = 1) # column wise "
   ]
  },
  {
   "cell_type": "code",
   "execution_count": 21,
   "id": "df59f159-b972-432d-ad4c-accfd5eda5a8",
   "metadata": {},
   "outputs": [
    {
     "data": {
      "text/plain": [
       "array([3, 2, 4, 2], dtype=int64)"
      ]
     },
     "execution_count": 21,
     "metadata": {},
     "output_type": "execute_result"
    }
   ],
   "source": [
    "np.argmax(b,axis = 0)# column wise"
   ]
  },
  {
   "cell_type": "markdown",
   "id": "06c3079a-1180-4d1b-b70c-5e8e52fa586b",
   "metadata": {},
   "source": [
    "## np.argmin \n",
    "#### The numpy.argmin()function returns the indices of the min element of array in a particular axis"
   ]
  },
  {
   "cell_type": "code",
   "execution_count": 22,
   "id": "6acef1fe-04b2-45a8-9ac9-2e1084684d8a",
   "metadata": {},
   "outputs": [
    {
     "data": {
      "text/plain": [
       "array([18, 63, 88, 23, 98, 82, 85, 90,  6, 49])"
      ]
     },
     "execution_count": 22,
     "metadata": {},
     "output_type": "execute_result"
    }
   ],
   "source": [
    "a"
   ]
  },
  {
   "cell_type": "code",
   "execution_count": 23,
   "id": "f2819b4d-d496-4999-8908-afb137d02ca9",
   "metadata": {},
   "outputs": [
    {
     "data": {
      "text/plain": [
       "8"
      ]
     },
     "execution_count": 23,
     "metadata": {},
     "output_type": "execute_result"
    }
   ],
   "source": [
    "np.argmin(a)"
   ]
  },
  {
   "cell_type": "code",
   "execution_count": 24,
   "id": "60c2fdb2-9f2d-4e1e-b4b4-e4ddfb52a0d7",
   "metadata": {},
   "outputs": [
    {
     "data": {
      "text/plain": [
       "array([[25, 54, 70, 18],\n",
       "       [52, 25, 28, 17],\n",
       "       [40, 84, 61, 78],\n",
       "       [80, 32, 69,  4],\n",
       "       [61, 17, 92, 55],\n",
       "       [32, 13, 29, 38]])"
      ]
     },
     "execution_count": 24,
     "metadata": {},
     "output_type": "execute_result"
    }
   ],
   "source": [
    "b"
   ]
  },
  {
   "cell_type": "code",
   "execution_count": 25,
   "id": "39372df1-d2ef-4697-a377-d92e6556a0c7",
   "metadata": {},
   "outputs": [
    {
     "data": {
      "text/plain": [
       "array([3, 3, 0, 3, 1, 1], dtype=int64)"
      ]
     },
     "execution_count": 25,
     "metadata": {},
     "output_type": "execute_result"
    }
   ],
   "source": [
    "np.argmin(b,axis = 1)"
   ]
  },
  {
   "cell_type": "markdown",
   "id": "d4651108-412a-4090-9f75-ca2a2abbe2cb",
   "metadata": {},
   "source": [
    "## np.cumsum\n",
    "#### numpy .cumsum function() is used when we want to compute the commulative sum of array elements over a given axis."
   ]
  },
  {
   "cell_type": "code",
   "execution_count": 26,
   "id": "cca923c0-676c-4d84-95d4-e233b006244f",
   "metadata": {},
   "outputs": [
    {
     "data": {
      "text/plain": [
       "array([18, 63, 88, 23, 98, 82, 85, 90,  6, 49])"
      ]
     },
     "execution_count": 26,
     "metadata": {},
     "output_type": "execute_result"
    }
   ],
   "source": [
    "a"
   ]
  },
  {
   "cell_type": "code",
   "execution_count": 27,
   "id": "93284522-94dc-496c-8175-5e4a8a09614e",
   "metadata": {},
   "outputs": [
    {
     "data": {
      "text/plain": [
       "array([ 18,  81, 169, 192, 290, 372, 457, 547, 553, 602])"
      ]
     },
     "execution_count": 27,
     "metadata": {},
     "output_type": "execute_result"
    }
   ],
   "source": [
    "np.cumsum(a)"
   ]
  },
  {
   "cell_type": "code",
   "execution_count": 28,
   "id": "ff8d6dd7-84dc-4489-9420-473fee72d6b8",
   "metadata": {},
   "outputs": [
    {
     "data": {
      "text/plain": [
       "array([[25, 54, 70, 18],\n",
       "       [52, 25, 28, 17],\n",
       "       [40, 84, 61, 78],\n",
       "       [80, 32, 69,  4],\n",
       "       [61, 17, 92, 55],\n",
       "       [32, 13, 29, 38]])"
      ]
     },
     "execution_count": 28,
     "metadata": {},
     "output_type": "execute_result"
    }
   ],
   "source": [
    "b"
   ]
  },
  {
   "cell_type": "code",
   "execution_count": 29,
   "id": "c94b3791-9eac-4cb4-a61d-ffb04d18ad11",
   "metadata": {},
   "outputs": [
    {
     "data": {
      "text/plain": [
       "array([[ 25,  79, 149, 167],\n",
       "       [ 52,  77, 105, 122],\n",
       "       [ 40, 124, 185, 263],\n",
       "       [ 80, 112, 181, 185],\n",
       "       [ 61,  78, 170, 225],\n",
       "       [ 32,  45,  74, 112]])"
      ]
     },
     "execution_count": 29,
     "metadata": {},
     "output_type": "execute_result"
    }
   ],
   "source": [
    "np.cumsum(b,axis = 1)"
   ]
  },
  {
   "cell_type": "markdown",
   "id": "1a2c76c9-ae81-47fb-91d5-b0fd102ea355",
   "metadata": {},
   "source": [
    "## np.cumprod\n",
    "#### numpy .cumprod function() is used when we want to compute the commulative product of array elements over a given axis."
   ]
  },
  {
   "cell_type": "code",
   "execution_count": 30,
   "id": "6248f628-e2f4-4dcd-a728-cca84e53ccce",
   "metadata": {},
   "outputs": [
    {
     "data": {
      "text/plain": [
       "array([18, 63, 88, 23, 98, 82, 85, 90,  6, 49])"
      ]
     },
     "execution_count": 30,
     "metadata": {},
     "output_type": "execute_result"
    }
   ],
   "source": [
    "a"
   ]
  },
  {
   "cell_type": "code",
   "execution_count": 31,
   "id": "d77f0b96-c96c-46c4-8633-31eeb38da1e2",
   "metadata": {},
   "outputs": [
    {
     "data": {
      "text/plain": [
       "array([        18,       1134,      99792,    2295216,  224931168,\n",
       "       1264486592,  107177920, 1056078208, 2041501952, 1249347840])"
      ]
     },
     "execution_count": 31,
     "metadata": {},
     "output_type": "execute_result"
    }
   ],
   "source": [
    "np.cumprod(a)"
   ]
  },
  {
   "cell_type": "markdown",
   "id": "3200036c-81e2-46bc-8e0c-dfec2fc1f3d0",
   "metadata": {},
   "source": [
    "## np.percentile\n",
    "#### numpy.percentile() function used to compute the nth percentile of the given data (array elements) along the specified axis. "
   ]
  },
  {
   "cell_type": "code",
   "execution_count": 32,
   "id": "73839ab3-2096-4e43-93c1-2ac9ba50a4f2",
   "metadata": {},
   "outputs": [
    {
     "data": {
      "text/plain": [
       "array([18, 63, 88, 23, 98, 82, 85, 90,  6, 49])"
      ]
     },
     "execution_count": 32,
     "metadata": {},
     "output_type": "execute_result"
    }
   ],
   "source": [
    "a"
   ]
  },
  {
   "cell_type": "code",
   "execution_count": 33,
   "id": "5cc0c09f-772d-475f-b266-08759b9311f4",
   "metadata": {},
   "outputs": [
    {
     "data": {
      "text/plain": [
       "98.0"
      ]
     },
     "execution_count": 33,
     "metadata": {},
     "output_type": "execute_result"
    }
   ],
   "source": [
    "np.percentile(a,100)"
   ]
  },
  {
   "cell_type": "code",
   "execution_count": 34,
   "id": "05712e92-2800-4f00-9b59-8b861b970f85",
   "metadata": {},
   "outputs": [
    {
     "data": {
      "text/plain": [
       "72.5"
      ]
     },
     "execution_count": 34,
     "metadata": {},
     "output_type": "execute_result"
    }
   ],
   "source": [
    "np.percentile(a,50)"
   ]
  },
  {
   "cell_type": "code",
   "execution_count": 35,
   "id": "53540b53-ab0b-4361-98cb-60cab3f4850c",
   "metadata": {},
   "outputs": [
    {
     "data": {
      "text/plain": [
       "6.0"
      ]
     },
     "execution_count": 35,
     "metadata": {},
     "output_type": "execute_result"
    }
   ],
   "source": [
    "np.percentile(a,0)"
   ]
  },
  {
   "cell_type": "markdown",
   "id": "228d0f73-366d-48f4-9ffe-e792747d3e62",
   "metadata": {},
   "source": [
    "## np.histogram\n",
    "#### Numpy has a built-in numpy.histogram() function which represents the frequency of data distribution in the graphical form."
   ]
  },
  {
   "cell_type": "code",
   "execution_count": 36,
   "id": "ca1751a4-a3d8-4ee0-8ef5-b569947c02da",
   "metadata": {},
   "outputs": [
    {
     "data": {
      "text/plain": [
       "array([18, 63, 88, 23, 98, 82, 85, 90,  6, 49])"
      ]
     },
     "execution_count": 36,
     "metadata": {},
     "output_type": "execute_result"
    }
   ],
   "source": [
    "a"
   ]
  },
  {
   "cell_type": "code",
   "execution_count": 37,
   "id": "861dc5b2-a42e-46e9-ba6a-cb6289c843d5",
   "metadata": {},
   "outputs": [
    {
     "data": {
      "text/plain": [
       "(array([3, 1, 1, 5], dtype=int64), array([  0,  25,  50,  75, 100]))"
      ]
     },
     "execution_count": 37,
     "metadata": {},
     "output_type": "execute_result"
    }
   ],
   "source": [
    "np.histogram(a,bins = [0,25,50,75,100])"
   ]
  },
  {
   "cell_type": "markdown",
   "id": "10ec8f90-99f0-4c98-a2ec-e5225296ec6f",
   "metadata": {},
   "source": [
    "## np.corrcoef\n",
    "#### compute pearson product-moment correlation coefficients of two given arrays with the help of numpy.corrcoef() function."
   ]
  },
  {
   "cell_type": "code",
   "execution_count": 38,
   "id": "01fc1eef-d67a-47a7-b941-e2accc91b8f3",
   "metadata": {},
   "outputs": [
    {
     "data": {
      "text/plain": [
       "array([[1.        , 0.42319584],\n",
       "       [0.42319584, 1.        ]])"
      ]
     },
     "execution_count": 38,
     "metadata": {},
     "output_type": "execute_result"
    }
   ],
   "source": [
    "salary = np.array([10000,25000,30000,45000,60000])\n",
    "experience = np.array([1,3,2,4,2])\n",
    "np.corrcoef(salary,experience)"
   ]
  },
  {
   "cell_type": "markdown",
   "id": "6c13f38c-d8c2-4c3c-bbaa-4df5c19bb327",
   "metadata": {},
   "source": [
    "## np.isin()\n",
    "#### With the help of numpy.isin() method, we can see that one array having values are checked in a different numpy array having different elements with different sizes."
   ]
  },
  {
   "cell_type": "code",
   "execution_count": 39,
   "id": "25b16d00-26a4-4f5d-b6ce-db64484aec92",
   "metadata": {},
   "outputs": [
    {
     "data": {
      "text/plain": [
       "array([18, 63, 88, 23, 98, 82, 85, 90,  6, 49])"
      ]
     },
     "execution_count": 39,
     "metadata": {},
     "output_type": "execute_result"
    }
   ],
   "source": [
    "a"
   ]
  },
  {
   "cell_type": "code",
   "execution_count": 40,
   "id": "8f031981-ff65-4920-be02-bb3570c55e19",
   "metadata": {},
   "outputs": [
    {
     "data": {
      "text/plain": [
       "array([False, False, False, False, False, False, False,  True, False,\n",
       "       False])"
      ]
     },
     "execution_count": 40,
     "metadata": {},
     "output_type": "execute_result"
    }
   ],
   "source": [
    "items = [10,20,30,40,50,60,70,80,90]\n",
    "np.isin(a,items)"
   ]
  },
  {
   "cell_type": "code",
   "execution_count": 41,
   "id": "dca809c6-4311-4563-aaf9-662ac1660526",
   "metadata": {},
   "outputs": [
    {
     "data": {
      "text/plain": [
       "array([90])"
      ]
     },
     "execution_count": 41,
     "metadata": {},
     "output_type": "execute_result"
    }
   ],
   "source": [
    "items = [10,20,30,40,50,60,70,80,90]\n",
    "a[np.isin(a,items)]"
   ]
  },
  {
   "cell_type": "markdown",
   "id": "a68511e9-9f12-4c3e-a260-759570c63adf",
   "metadata": {},
   "source": [
    "## np.flip\n",
    "#### The numpy.flip() function reverses the order of array elements along the specified axis, preserving the shape of the array."
   ]
  },
  {
   "cell_type": "code",
   "execution_count": 42,
   "id": "7cc9a00e-afd0-456d-8666-cbeb2f2036d9",
   "metadata": {},
   "outputs": [
    {
     "data": {
      "text/plain": [
       "array([18, 63, 88, 23, 98, 82, 85, 90,  6, 49])"
      ]
     },
     "execution_count": 42,
     "metadata": {},
     "output_type": "execute_result"
    }
   ],
   "source": [
    "a"
   ]
  },
  {
   "cell_type": "code",
   "execution_count": 43,
   "id": "3d7927fc-c80b-4c2c-9c7f-98ac0c2a360e",
   "metadata": {},
   "outputs": [
    {
     "data": {
      "text/plain": [
       "array([49,  6, 90, 85, 82, 98, 23, 88, 63, 18])"
      ]
     },
     "execution_count": 43,
     "metadata": {},
     "output_type": "execute_result"
    }
   ],
   "source": [
    "np.flip(a)"
   ]
  },
  {
   "cell_type": "code",
   "execution_count": 44,
   "id": "c08fc0b8-2d68-438d-b526-04d1940ebdaa",
   "metadata": {},
   "outputs": [
    {
     "data": {
      "text/plain": [
       "array([[25, 54, 70, 18],\n",
       "       [52, 25, 28, 17],\n",
       "       [40, 84, 61, 78],\n",
       "       [80, 32, 69,  4],\n",
       "       [61, 17, 92, 55],\n",
       "       [32, 13, 29, 38]])"
      ]
     },
     "execution_count": 44,
     "metadata": {},
     "output_type": "execute_result"
    }
   ],
   "source": [
    "b"
   ]
  },
  {
   "cell_type": "code",
   "execution_count": 45,
   "id": "1f9f7514-9fc7-4c30-8e8e-afae7b6be8da",
   "metadata": {},
   "outputs": [
    {
     "data": {
      "text/plain": [
       "array([[38, 29, 13, 32],\n",
       "       [55, 92, 17, 61],\n",
       "       [ 4, 69, 32, 80],\n",
       "       [78, 61, 84, 40],\n",
       "       [17, 28, 25, 52],\n",
       "       [18, 70, 54, 25]])"
      ]
     },
     "execution_count": 45,
     "metadata": {},
     "output_type": "execute_result"
    }
   ],
   "source": [
    "np.flip(b)"
   ]
  },
  {
   "cell_type": "code",
   "execution_count": 46,
   "id": "d8398156-1209-4b35-b9a6-cc555a91c02e",
   "metadata": {},
   "outputs": [
    {
     "data": {
      "text/plain": [
       "array([[32, 13, 29, 38],\n",
       "       [61, 17, 92, 55],\n",
       "       [80, 32, 69,  4],\n",
       "       [40, 84, 61, 78],\n",
       "       [52, 25, 28, 17],\n",
       "       [25, 54, 70, 18]])"
      ]
     },
     "execution_count": 46,
     "metadata": {},
     "output_type": "execute_result"
    }
   ],
   "source": [
    "np.flip(b,axis = 0)"
   ]
  },
  {
   "cell_type": "markdown",
   "id": "82dfc457-6327-4d36-8877-8b9b254c7758",
   "metadata": {},
   "source": [
    "## np.put\n",
    "#### The numpy.put() function replaces specific elements of an array with given values of p_array. Array indexed works on flattened array. "
   ]
  },
  {
   "cell_type": "code",
   "execution_count": 47,
   "id": "7214164d-2a9d-4dc8-897e-a91adbf422df",
   "metadata": {},
   "outputs": [
    {
     "data": {
      "text/plain": [
       "array([18, 63, 88, 23, 98, 82, 85, 90,  6, 49])"
      ]
     },
     "execution_count": 47,
     "metadata": {},
     "output_type": "execute_result"
    }
   ],
   "source": [
    "a"
   ]
  },
  {
   "cell_type": "code",
   "execution_count": 48,
   "id": "875a5086-721a-41c9-88b4-d193d28d4946",
   "metadata": {},
   "outputs": [],
   "source": [
    "np.put(a,[0,1],[2000,3000]) #it permanently changes original array"
   ]
  },
  {
   "cell_type": "code",
   "execution_count": 49,
   "id": "0ed6fedc-b955-406b-9f39-dce96738c2b8",
   "metadata": {},
   "outputs": [
    {
     "data": {
      "text/plain": [
       "array([2000, 3000,   88,   23,   98,   82,   85,   90,    6,   49])"
      ]
     },
     "execution_count": 49,
     "metadata": {},
     "output_type": "execute_result"
    }
   ],
   "source": [
    "a"
   ]
  },
  {
   "cell_type": "markdown",
   "id": "b19212db-c550-40b4-8668-6a34125eb1a9",
   "metadata": {},
   "source": [
    "## np.delete\n",
    "#### The numpy.delete() function returns a new array with the deletion of sub-arrays along with the mentioned axis"
   ]
  },
  {
   "cell_type": "code",
   "execution_count": 50,
   "id": "57f01b4f-ac3c-40d6-a879-975ffb91d5fa",
   "metadata": {},
   "outputs": [
    {
     "data": {
      "text/plain": [
       "array([2000, 3000,   88,   23,   98,   82,   85,   90,    6,   49])"
      ]
     },
     "execution_count": 50,
     "metadata": {},
     "output_type": "execute_result"
    }
   ],
   "source": [
    "a"
   ]
  },
  {
   "cell_type": "code",
   "execution_count": 51,
   "id": "2452db2c-3d48-47ec-a913-63b93f74ec67",
   "metadata": {},
   "outputs": [
    {
     "data": {
      "text/plain": [
       "array([2000,   88,   23,   98,   82,   85,   90,    6,   49])"
      ]
     },
     "execution_count": 51,
     "metadata": {},
     "output_type": "execute_result"
    }
   ],
   "source": [
    "# take indices\n",
    "np.delete(a,1)"
   ]
  },
  {
   "cell_type": "code",
   "execution_count": 52,
   "id": "7f9f9ee8-d32e-4656-afe7-00ba92b7dbc1",
   "metadata": {},
   "outputs": [
    {
     "data": {
      "text/plain": [
       "array([3000,   90,    6,   49])"
      ]
     },
     "execution_count": 52,
     "metadata": {},
     "output_type": "execute_result"
    }
   ],
   "source": [
    "# we can also pass maximum numbers\n",
    "np.delete(a,[0,2,3,4,6,5])"
   ]
  },
  {
   "cell_type": "markdown",
   "id": "5bb6bbd0-e3f0-4a4b-8abe-bf910f99193d",
   "metadata": {},
   "source": [
    "## set functions\n",
    "- np.union1d \n",
    "- np.interscetion1d\n",
    "- np.setdiff1d\n",
    "- np.setxor1d\n",
    "- np.in1d"
   ]
  },
  {
   "cell_type": "code",
   "execution_count": 53,
   "id": "e6eb4335-53fc-4811-8632-f3625d479ea1",
   "metadata": {},
   "outputs": [
    {
     "data": {
      "text/plain": [
       "array([1, 2, 3, 4, 5, 6, 7])"
      ]
     },
     "execution_count": 53,
     "metadata": {},
     "output_type": "execute_result"
    }
   ],
   "source": [
    "m = np.array([1,2,3,4,5])\n",
    "n = np.array([1,2,3,3,4,4,2,6,7])\n",
    "np.union1d(n,m)"
   ]
  },
  {
   "cell_type": "code",
   "execution_count": 54,
   "id": "3e35baaa-c9ab-4a5e-887b-74cc602e6aaf",
   "metadata": {},
   "outputs": [
    {
     "data": {
      "text/plain": [
       "array([1, 2, 3, 4])"
      ]
     },
     "execution_count": 54,
     "metadata": {},
     "output_type": "execute_result"
    }
   ],
   "source": [
    "np.intersect1d(m,n)"
   ]
  },
  {
   "cell_type": "code",
   "execution_count": 55,
   "id": "5c7e5e07-b713-4acb-bf1e-a280fd377587",
   "metadata": {},
   "outputs": [
    {
     "data": {
      "text/plain": [
       "array([5])"
      ]
     },
     "execution_count": 55,
     "metadata": {},
     "output_type": "execute_result"
    }
   ],
   "source": [
    "np.setdiff1d(m,n)"
   ]
  },
  {
   "cell_type": "code",
   "execution_count": 56,
   "id": "864a26bb-e525-4362-a572-82d68d52e6c9",
   "metadata": {},
   "outputs": [
    {
     "data": {
      "text/plain": [
       "array([5, 6, 7])"
      ]
     },
     "execution_count": 56,
     "metadata": {},
     "output_type": "execute_result"
    }
   ],
   "source": [
    "np.setxor1d(m,n) # removes common"
   ]
  },
  {
   "cell_type": "code",
   "execution_count": 57,
   "id": "e2e2b7ae-668a-4721-ac5c-17eca80643c2",
   "metadata": {},
   "outputs": [
    {
     "data": {
      "text/plain": [
       "array([False, False, False,  True, False])"
      ]
     },
     "execution_count": 57,
     "metadata": {},
     "output_type": "execute_result"
    }
   ],
   "source": [
    "np.in1d(m,4)"
   ]
  },
  {
   "cell_type": "markdown",
   "id": "042da6f7-440a-4613-8196-032074edca8d",
   "metadata": {},
   "source": [
    "## np.clip\n",
    "#### numpy.clip() function is used to Clip (limit) the values in an array."
   ]
  },
  {
   "cell_type": "code",
   "execution_count": 58,
   "id": "49717d60-ef47-47ca-a0d9-5561770884f0",
   "metadata": {},
   "outputs": [
    {
     "data": {
      "text/plain": [
       "array([2000, 3000,   88,   23,   98,   82,   85,   90,    6,   49])"
      ]
     },
     "execution_count": 58,
     "metadata": {},
     "output_type": "execute_result"
    }
   ],
   "source": [
    "a"
   ]
  },
  {
   "cell_type": "code",
   "execution_count": 59,
   "id": "bf7f6de1-1592-4fa5-8952-473c06f463f2",
   "metadata": {},
   "outputs": [
    {
     "data": {
      "text/plain": [
       "array([75, 75, 75, 25, 75, 75, 75, 75, 25, 49])"
      ]
     },
     "execution_count": 59,
     "metadata": {},
     "output_type": "execute_result"
    }
   ],
   "source": [
    "np.clip(a,a_min=25,a_max=75)"
   ]
  },
  {
   "cell_type": "markdown",
   "id": "18781e17-7fc8-42be-85e0-17f13def826a",
   "metadata": {},
   "source": [
    "## 17. np.swapaxes\n",
    "#### numpy.swapaxes() function interchange two axes of an array."
   ]
  },
  {
   "cell_type": "code",
   "execution_count": 60,
   "id": "227538b0-d897-4f33-b694-4d4d8f2f9de0",
   "metadata": {},
   "outputs": [
    {
     "data": {
      "text/plain": [
       "array([[1, 2, 3]])"
      ]
     },
     "execution_count": 60,
     "metadata": {},
     "output_type": "execute_result"
    }
   ],
   "source": [
    "a = np.array([[1,2,3,]])\n",
    "a"
   ]
  },
  {
   "cell_type": "code",
   "execution_count": 61,
   "id": "beebe78c-8ddd-4ae9-aa73-673874d674da",
   "metadata": {},
   "outputs": [
    {
     "data": {
      "text/plain": [
       "array([[1],\n",
       "       [2],\n",
       "       [3]])"
      ]
     },
     "execution_count": 61,
     "metadata": {},
     "output_type": "execute_result"
    }
   ],
   "source": [
    "np.swapaxes(a,0,1)"
   ]
  },
  {
   "cell_type": "code",
   "execution_count": 64,
   "id": "9f402632-7055-40e9-94b6-305369a5d6bf",
   "metadata": {},
   "outputs": [
    {
     "data": {
      "text/plain": [
       "array([[[ 0,  1,  3],\n",
       "        [ 4,  5,  6]],\n",
       "\n",
       "       [[ 7,  8,  9],\n",
       "        [10, 11, 12]]])"
      ]
     },
     "execution_count": 64,
     "metadata": {},
     "output_type": "execute_result"
    }
   ],
   "source": [
    "b = np.array([[[0,1,3],[4,5,6]],[[7,8,9],[10,11,12]]])\n",
    "b"
   ]
  },
  {
   "cell_type": "code",
   "execution_count": 65,
   "id": "78d8308b-e755-4e4a-9d16-21fdc9300fcd",
   "metadata": {},
   "outputs": [
    {
     "data": {
      "text/plain": [
       "array([[[ 0,  7],\n",
       "        [ 4, 10]],\n",
       "\n",
       "       [[ 1,  8],\n",
       "        [ 5, 11]],\n",
       "\n",
       "       [[ 3,  9],\n",
       "        [ 6, 12]]])"
      ]
     },
     "execution_count": 65,
     "metadata": {},
     "output_type": "execute_result"
    }
   ],
   "source": [
    "np.swapaxes(b,0,2)"
   ]
  },
  {
   "cell_type": "markdown",
   "id": "b18f1ff4-8804-444e-93d6-258c8a1dc43e",
   "metadata": {},
   "source": [
    "## 18. np.uniform\n",
    "#### numpy.random.uniform() method, we are able to get the random samples from uniform distribution and return the random samples."
   ]
  },
  {
   "cell_type": "code",
   "execution_count": 68,
   "id": "f1fffbbd-8298-4001-8cf1-005d91e7b0c2",
   "metadata": {},
   "outputs": [
    {
     "data": {
      "image/png": "[encoded data removed]",
      "text/plain": [
       "<Figure size 640x480 with 1 Axes>"
      ]
     },
     "metadata": {},
     "output_type": "display_data"
    }
   ],
   "source": [
    "import matplotlib.pyplot as plt \n",
    "\n",
    "a = np.random.uniform(-5, 5, 200)   \n",
    "plt.hist(a, bins = 15, density = True) \n",
    "plt.show()"
   ]
  },
  {
   "cell_type": "markdown",
   "id": "34004ddd-cf6e-4caa-85f3-babc130838e0",
   "metadata": {},
   "source": [
    "## 19. np.count_nonzero\n",
    "#### numpy.count_nonzero() function counts the number of non-zero values in the array arr"
   ]
  },
  {
   "cell_type": "code",
   "execution_count": 69,
   "id": "bb4a6d6d-c45a-4967-b1df-e4a1b0122369",
   "metadata": {},
   "outputs": [
    {
     "data": {
      "text/plain": [
       "6"
      ]
     },
     "execution_count": 69,
     "metadata": {},
     "output_type": "execute_result"
    }
   ],
   "source": [
    "arr = [[0, 1, 2, 3, 0], [0, 5, 6, 0, 7]] \n",
    "np.count_nonzero(arr)"
   ]
  },
  {
   "cell_type": "markdown",
   "id": "4044b957-e569-4a3c-b7eb-ad5c73af5bbb",
   "metadata": {},
   "source": [
    "## 21. np.title\n",
    "#### The title() function is used to convert an input string into a title cased version."
   ]
  },
  {
   "cell_type": "code",
   "execution_count": 71,
   "id": "fa624a6a-6266-4ef7-8f9c-fefbea9b5ff3",
   "metadata": {},
   "outputs": [
    {
     "name": "stdout",
     "output_type": "stream",
     "text": [
      "numpy is very useful.\n",
      "Numpy Is Very Useful.\n"
     ]
    }
   ],
   "source": [
    "x = \"numpy is very useful.\"\n",
    "print(x)\n",
    "a = np.char.title(x)\n",
    "print(a)"
   ]
  },
  {
   "cell_type": "markdown",
   "id": "1a3c3747-ba89-4075-96bc-c0ca5d281406",
   "metadata": {},
   "source": [
    "## np.repeat\n",
    "#### The numpy.repeat() function repeats elements of the array  Syntax : \n",
    "#### numpy.repeat(arr, repetitions, axis = None)"
   ]
  },
  {
   "cell_type": "code",
   "execution_count": 79,
   "id": "4cdf3ebb-ad73-4125-8a4d-44a06f32f91a",
   "metadata": {},
   "outputs": [
    {
     "data": {
      "text/plain": [
       "array([0, 0, 0, 1, 1, 1, 2, 2, 2, 3, 3, 3, 4, 4, 4])"
      ]
     },
     "execution_count": 79,
     "metadata": {},
     "output_type": "execute_result"
    }
   ],
   "source": [
    "arr = np.arange(5)\n",
    "a"
   ]
  },
  {
   "cell_type": "code",
   "execution_count": 77,
   "id": "3557e0db-1b2b-4754-bcc9-58415131f8e4",
   "metadata": {},
   "outputs": [
    {
     "data": {
      "text/plain": [
       "array([0, 0, 0, 1, 1, 1, 2, 2, 2, 3, 3, 3, 4, 4, 4])"
      ]
     },
     "execution_count": 77,
     "metadata": {},
     "output_type": "execute_result"
    }
   ],
   "source": [
    "a = np.repeat(arr, 3)\n",
    "a"
   ]
  },
  {
   "cell_type": "markdown",
   "id": "6f974662-e4f7-44b9-b7d6-56cb12538e90",
   "metadata": {},
   "source": [
    "## 25. np.allclose and equals"
   ]
  },
  {
   "cell_type": "code",
   "execution_count": null,
   "id": "10bca31a-9800-4439-8367-adfcede7daa7",
   "metadata": {},
   "outputs": [],
   "source": []
  }
 ],
 "metadata": {
  "kernelspec": {
   "display_name": "Python 3 (ipykernel)",
   "language": "python",
   "name": "python3"
  },
  "language_info": {
   "codemirror_mode": {
    "name": "ipython",
    "version": 3
   },
   "file_extension": ".py",
   "mimetype": "text/x-python",
   "name": "python",
   "nbconvert_exporter": "python",
   "pygments_lexer": "ipython3",
   "version": "3.12.3"
  }
 },
 "nbformat": 4,
 "nbformat_minor": 5
}
